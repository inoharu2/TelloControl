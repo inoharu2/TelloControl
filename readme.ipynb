{
 "cells": [
  {
   "cell_type": "markdown",
   "metadata": {},
   "source": [
    "# Tello Control\n",
    "\n",
    "## インストール\n",
    "\n",
    "pipからtellopyをインストール\n",
    "\n",
    "```console\n",
    "$ pip install tellopy\n",
    "```\n",
    "\n",
    "Anacondaから必要なライブラリをインストール\n",
    "\n",
    "```console\n",
    "$ conda install numpy\n",
    "$ conda install -c conda-forge scipy av opencv\n",
    "```\n",
    "\n",
    "Note: PyAVはFFmpegのPythonバインディング\n"
   ]
  },
  {
   "cell_type": "markdown",
   "metadata": {},
   "source": [
    "# 座標変換\n",
    "\n",
    "## rvec, tvecは何を表しているか？\n",
    "\n",
    "aruco.estimatePoseSingleMarkersが返すrvec, tvecは何を表現しているか？\n",
    "カメラとマーカーの位置関係を表していることは間違いないから、以下の4つが候補である。\n",
    "\n",
    "1. カメラからみたマーカーの姿勢と位置をカメラ座標系で記述している\n",
    "1. カメラからみたマーカーの姿勢と位置をマーカー座標系で記述している\n",
    "1. マーカーからみたカメラの姿勢と位置をカメラ座標系で記述している\n",
    "1. マーカーからみたカメラの姿勢と位置をマーカー座標系で記述している\n",
    "\n",
    "このうち2.と3.は移動の起点と記述する座標系が異なるから不自然ではあるが、\n",
    "先入観を持たずに検証したいため候補に残しておく。\n",
    "\n",
    "なお、上記はいずれも空間内で座標軸の位置を移動させる意味合いで書いており、これをactive transformationという。一方で、空間上に固定された点のxyz成分表記が座標系変換でどう変わるかという見方もでき、これをpassive transformationという。Passive transformationも加えるとさらに2つの解釈が生まれる。\n",
    "\n",
    "5. カメラ座標系でみた点をマーカー座標系で見たときの変換式を与える\n",
    "5. マーカー座標系でみた点をカメラ座標系で見たときの変換式を与える\n",
    "\n",
    "\n",
    "## どうやって検証する？\n",
    "\n",
    "検証するにしても、そもそもどのような表現方法で回転を記載するかを決めなければならない。\n",
    "回転の記述方法にはオイラー角、回転行列、ロドリゲス、クオータニオンなどの方法があり一長一短である。相互変換はScipy等のライブラリで提供されているから簡単だが、使い方をよく確認しないと仮説が間違っているのかコードが間違っているのか区別がつかなくなるため注意が必要である。\n",
    "\n",
    "\n",
    "### オイラー角\n",
    "**特にオイラー角は注意が必要**である。\n",
    "オイラー角は回転軸の順序の選び方が6通りあり、しかも回転軸の記述方法がintrinsic rotationとextrinsic rotationの2通りある。Intrinsic rotationは逐次回転する座標系の軸を基準に回転方向を記述する方法である。一方、Extrinsic rotationは元の座標系(固定)の軸を基準に回転方向を記述する方法である。\n",
    "\n",
    "航空分野で通常用いられるオイラー角(nautical angles)はz、y、xの順序のintrinsic rotationで記述したものであり、逐次設定される座標系に'をつけてz-y'-x''のように表現することもある。z、y'、x''軸周りの回転をそれぞれyaw、pitch、rollという。\n",
    "\n",
    "``scipy.spatial.transform.Rotation.as_euler``の[ドキュメンテーション](https://scipy.github.io/devdocs/generated/scipy.spatial.transform.Rotation.as_euler.html#r72d546869407-1)\n",
    "を読むと、引数を大文字にするとintrinsic rotation、小文字にするとextrinsic rotationになると書かれている。すなわち``scipy.spatial.transform.rotation.Rotation``オブジェクト``r``があるとき\n",
    "\n",
    "```python\n",
    "r.as_euler('zyx', degrees=True)\n",
    "```\n",
    "は航空分野でよく使うyaw、pitch、rollを返さず、正しくは\n",
    "```python\n",
    "r.as_euler('ZYX', degrees=True)\n",
    "```\n",
    "とする必要がある。\n",
    "\n",
    "### 行列のright multiplyとleft multiply\n",
    "\n",
    "\n",
    "\n",
    "\n"
   ]
  },
  {
   "cell_type": "code",
   "execution_count": null,
   "metadata": {},
   "outputs": [],
   "source": []
  }
 ],
 "metadata": {
  "kernelspec": {
   "display_name": "Python 3",
   "language": "python",
   "name": "python3"
  },
  "language_info": {
   "codemirror_mode": {
    "name": "ipython",
    "version": 3
   },
   "file_extension": ".py",
   "mimetype": "text/x-python",
   "name": "python",
   "nbconvert_exporter": "python",
   "pygments_lexer": "ipython3",
   "version": "3.6.10"
  }
 },
 "nbformat": 4,
 "nbformat_minor": 4
}